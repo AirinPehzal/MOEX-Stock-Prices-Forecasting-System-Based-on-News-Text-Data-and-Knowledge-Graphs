{
  "nbformat": 4,
  "nbformat_minor": 0,
  "metadata": {
    "colab": {
      "provenance": []
    },
    "kernelspec": {
      "name": "python3",
      "display_name": "Python 3"
    },
    "language_info": {
      "name": "python"
    }
  },
  "cells": [
    {
      "cell_type": "markdown",
      "source": [
        "Libraries upload"
      ],
      "metadata": {
        "id": "4aDKFMZU5WyI"
      }
    },
    {
      "cell_type": "code",
      "source": [
        "!pip install spacy\n",
        "!python -m spacy download ru_core_news_sm"
      ],
      "metadata": {
        "id": "ftOomFnk7g2T"
      },
      "execution_count": null,
      "outputs": []
    },
    {
      "cell_type": "code",
      "execution_count": null,
      "metadata": {
        "id": "OG8EA0tN4xh0"
      },
      "outputs": [],
      "source": [
        "import pandas as pd\n",
        "import numpy as np\n",
        "import spacy"
      ]
    },
    {
      "cell_type": "code",
      "source": [
        "df = pd.read_csv('lenta-ru-news.csv')"
      ],
      "metadata": {
        "id": "BE3B93LD8hRC"
      },
      "execution_count": null,
      "outputs": []
    },
    {
      "cell_type": "markdown",
      "source": [
        "Check topics and tags\n"
      ],
      "metadata": {
        "id": "4uDOeXg-5Z3B"
      }
    },
    {
      "cell_type": "code",
      "source": [
        "df['topic'].unique()"
      ],
      "metadata": {
        "id": "3FmH893S5dDg"
      },
      "execution_count": null,
      "outputs": []
    },
    {
      "cell_type": "code",
      "source": [
        "df['tags'].unique()"
      ],
      "metadata": {
        "id": "41ffhsS-49Kd"
      },
      "execution_count": null,
      "outputs": []
    },
    {
      "cell_type": "markdown",
      "source": [
        "Check how many news are missing their topic value"
      ],
      "metadata": {
        "id": "aEwVWq_75gTj"
      }
    },
    {
      "cell_type": "code",
      "source": [
        "df['topic'].isna().sum()"
      ],
      "metadata": {
        "id": "j_oXOpCL490d"
      },
      "execution_count": null,
      "outputs": []
    },
    {
      "cell_type": "markdown",
      "source": [
        "Collecting news with chosen topics"
      ],
      "metadata": {
        "id": "pxyQa74q5l26"
      }
    },
    {
      "cell_type": "code",
      "source": [
        "topics = np.array(['Россия', 'Экономика', 'Легпром', 'Бизнес', 'Наука и техника'])\n",
        "cleaned_df = df.query(\"topic in @topics\")"
      ],
      "metadata": {
        "id": "tOrqoKE34_xL"
      },
      "execution_count": null,
      "outputs": []
    },
    {
      "cell_type": "markdown",
      "source": [
        "Addinional news collection for data that is missing their topic value"
      ],
      "metadata": {
        "id": "WKCpJl7k5o_p"
      }
    },
    {
      "cell_type": "code",
      "source": [
        "nan_df = df[df['topic'].isnull()]\n",
        "tags = np.array(['Бизнес', 'Госэкономика', 'Рынки', 'Деньги', 'Софт', 'Финансы компаний', 'Деловой климат',\n",
        "                 'Экономика', 'Нацпроекты'])\n",
        "cleaned_nan_df = nan_df.query(\"tags in @tags\")"
      ],
      "metadata": {
        "id": "aqxEJPhT5DgA"
      },
      "execution_count": null,
      "outputs": []
    },
    {
      "cell_type": "markdown",
      "source": [
        "Uniting the dataset and sorting it by date"
      ],
      "metadata": {
        "id": "eyt2o9aT5u4Y"
      }
    },
    {
      "cell_type": "code",
      "source": [
        "cleaned_full_df = pd.merge_ordered(cleaned_df, cleaned_nan_df)\n",
        "cleaned_full_df.sort_values('date', inplace = True)"
      ],
      "metadata": {
        "id": "BacH21xq5OS2"
      },
      "execution_count": null,
      "outputs": []
    },
    {
      "cell_type": "markdown",
      "source": [
        "Dropping unnecessary columns"
      ],
      "metadata": {
        "id": "aynSSibe53mB"
      }
    },
    {
      "cell_type": "code",
      "source": [
        "df_for_preprocess = cleaned_full_df.drop(columns = ['url', 'topic', 'tags'])"
      ],
      "metadata": {
        "id": "_MohuOjO5R0L"
      },
      "execution_count": null,
      "outputs": []
    },
    {
      "cell_type": "markdown",
      "source": [
        "Combining all text data"
      ],
      "metadata": {
        "id": "kk1DAna05-E2"
      }
    },
    {
      "cell_type": "code",
      "source": [
        "df_for_preprocess['full_news'] = cleaned_full_df['title'] + ' ' + cleaned_full_df['text']"
      ],
      "metadata": {
        "id": "5eDqAgrQ5-xi"
      },
      "execution_count": null,
      "outputs": []
    },
    {
      "cell_type": "markdown",
      "source": [
        "Starting spacy model for Russian language"
      ],
      "metadata": {
        "id": "tZG4GMHx7iZC"
      }
    },
    {
      "cell_type": "code",
      "source": [
        "nlp = spacy.load('ru_core_news_sm')"
      ],
      "metadata": {
        "id": "v9u7PuJ97lXl"
      },
      "execution_count": null,
      "outputs": []
    },
    {
      "cell_type": "markdown",
      "source": [
        "Extracting entities from the data"
      ],
      "metadata": {
        "id": "-P1y_FWw7zCW"
      }
    },
    {
      "cell_type": "code",
      "source": [
        "persons = []\n",
        "organizations = []\n",
        "\n",
        "for index, row in df_for_preprocess.iterrows():\n",
        "    cur_persons = set()\n",
        "    cur_orgs = set()\n",
        "\n",
        "    doc = nlp(str(row['full_news']))\n",
        "    for ent in doc.ents:\n",
        "        if ent.label_ == 'PER':\n",
        "            cur_persons.add(ent.lemma_)\n",
        "        if ent.label_ == 'ORG':\n",
        "            cur_orgs.add(ent.lemma_)\n",
        "\n",
        "    persons.append(cur_persons)\n",
        "    organizations.append(cur_orgs)"
      ],
      "metadata": {
        "id": "Q-XOOw7P79_2"
      },
      "execution_count": null,
      "outputs": []
    },
    {
      "cell_type": "markdown",
      "source": [
        "Saving the extracted entities into a file"
      ],
      "metadata": {
        "id": "IkFZLU1E8Mun"
      }
    },
    {
      "cell_type": "code",
      "source": [
        "orgs_pers = df_for_preprocess.copy()\n",
        "\n",
        "orgs_pers['organizations'] = organizations\n",
        "orgs_pers['persons'] = persons\n",
        "\n",
        "orgs_pers.to_csv('with_extracted_pers_orgs.csv', index = False)"
      ],
      "metadata": {
        "id": "DDhVNvmh744k"
      },
      "execution_count": null,
      "outputs": []
    }
  ]
}